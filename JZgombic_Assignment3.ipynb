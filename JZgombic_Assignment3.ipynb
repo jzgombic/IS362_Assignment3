{
 "cells": [
  {
   "cell_type": "markdown",
   "metadata": {},
   "source": [
    "# Assignment 3\n",
    "\n",
    "by\n",
    "\n",
    "Johnny Zgombic"
   ]
  },
  {
   "cell_type": "markdown",
   "metadata": {},
   "source": [
    "### Step 1\n",
    "\n",
    "Import all the necessary modules."
   ]
  },
  {
   "cell_type": "code",
   "execution_count": 2,
   "metadata": {},
   "outputs": [],
   "source": [
    "import pandas as pd"
   ]
  },
  {
   "cell_type": "markdown",
   "metadata": {},
   "source": [
    "### Step 2\n",
    "\n",
    "We now need to input the mileage we have gathered by hand each day of the trip to Key West,\n",
    "which is 1547 miles from New York City."
   ]
  },
  {
   "cell_type": "code",
   "execution_count": 3,
   "metadata": {},
   "outputs": [
    {
     "name": "stdout",
     "output_type": "stream",
     "text": [
      "Mileage Readings Recorded:\n",
      "[80, 145, 215, 271, 358, 458, 536, 606, 706, 808, 879, 945, 1028, 1102, 1193, 1276, 1347, 1407, 1455, 1547]\n"
     ]
    }
   ],
   "source": [
    "mileage = [80, 145, 215, 271, 358, 458, 536, 606, 706, 808, 879, 945, 1028, 1102, 1193, 1276, 1347, 1407, 1455, 1547]\n",
    "print (\"Mileage Readings Recorded:\")\n",
    "print (mileage)"
   ]
  },
  {
   "cell_type": "markdown",
   "metadata": {},
   "source": [
    "### Step 3\n",
    "\n",
    "We now need to create a pandas Series object using the supplied mileage readings\n",
    "\n",
    "    and\n",
    "    \n",
    "a temporary Series object to validate the recorded mileage."
   ]
  },
  {
   "cell_type": "code",
   "execution_count": 4,
   "metadata": {},
   "outputs": [],
   "source": [
    "pd_series = pd.Series(mileage)\n",
    "pd_temp = pd_series.sort_values()   "
   ]
  },
  {
   "cell_type": "markdown",
   "metadata": {},
   "source": [
    "### Step 4\n",
    "\n",
    "We now take the data that we have input and validate it and then we will take the validated data and store it in a Series object.\n",
    "\n",
    "After that is done, we will display a list of the day and the mileage from that day and end it\n",
    "with the total miles travelled which is a set amount of 1,547."
   ]
  },
  {
   "cell_type": "code",
   "execution_count": 5,
   "metadata": {},
   "outputs": [
    {
     "name": "stdout",
     "output_type": "stream",
     "text": [
      "Here are the daily miles travelled:\n",
      "Day 1:  80\n",
      "Day 2:  65\n",
      "Day 3:  70\n",
      "Day 4:  56\n",
      "Day 5:  87\n",
      "Day 6:  100\n",
      "Day 7:  78\n",
      "Day 8:  70\n",
      "Day 9:  100\n",
      "Day 10:  102\n",
      "Day 11:  71\n",
      "Day 12:  66\n",
      "Day 13:  83\n",
      "Day 14:  74\n",
      "Day 15:  91\n",
      "Day 16:  83\n",
      "Day 17:  71\n",
      "Day 18:  60\n",
      "Day 19:  48\n",
      "Day 20:  92\n",
      "Total Miles Travelled:  1547\n"
     ]
    }
   ],
   "source": [
    "if pd.Series.equals(pd_temp,pd_series) == False:\n",
    "    print (\"Please confirm the recorded miles as the previous reading cannot be lesser in value\")\n",
    "    print (pd_series)\n",
    "\n",
    "else:\n",
    "    miles_travelled_Series = pd.Series()\n",
    "    print (\"Here are the daily miles travelled:\")\n",
    "    for i in range(pd_series.shape[0]):\n",
    "        if i == 0:\n",
    "            miles_travelled = pd_series[i]\n",
    "        else:\n",
    "            miles_travelled = pd_series[i] - pd_series[i-1]\n",
    "        print (\"Day \"+ str(i+1) + \": \" , miles_travelled)\n",
    "\n",
    "print (\"Total Miles Travelled\" + \": \", '1547')"
   ]
  },
  {
   "cell_type": "markdown",
   "metadata": {},
   "source": [
    "# THE END"
   ]
  },
  {
   "cell_type": "code",
   "execution_count": null,
   "metadata": {},
   "outputs": [],
   "source": []
  }
 ],
 "metadata": {
  "anaconda-cloud": {},
  "kernelspec": {
   "display_name": "Python 3",
   "language": "python",
   "name": "python3"
  },
  "language_info": {
   "codemirror_mode": {
    "name": "ipython",
    "version": 3
   },
   "file_extension": ".py",
   "mimetype": "text/x-python",
   "name": "python",
   "nbconvert_exporter": "python",
   "pygments_lexer": "ipython3",
   "version": "3.7.3"
  }
 },
 "nbformat": 4,
 "nbformat_minor": 1
}
